{
 "cells": [
  {
   "cell_type": "code",
   "execution_count": null,
   "id": "db5374a7-5a16-4188-93d3-1db9ab7356a3",
   "metadata": {},
   "outputs": [
    {
     "name": "stdout",
     "output_type": "stream",
     "text": [
      "Background frame captured and stored.\n"
     ]
    },
    {
     "ename": "",
     "evalue": "",
     "output_type": "error",
     "traceback": [
      "\u001b[1;31mThe Kernel crashed while executing code in the current cell or a previous cell. \n",
      "\u001b[1;31mPlease review the code in the cell(s) to identify a possible cause of the failure. \n",
      "\u001b[1;31mClick <a href='https://aka.ms/vscodeJupyterKernelCrash'>here</a> for more info. \n",
      "\u001b[1;31mView Jupyter <a href='command:jupyter.viewOutput'>log</a> for further details."
     ]
    }
   ],
   "source": [
    "import cv2\n",
    "import numpy as np\n",
    "\n",
    "# Step 1: Get the live video feed from your webcam\n",
    "cap = cv2.VideoCapture(0)  # Use 0 for the default camera\n",
    "\n",
    "# Check if the webcam is opened successfully\n",
    "if not cap.isOpened():\n",
    "    print(\"Error: Could not access the webcam.\")\n",
    "    exit()\n",
    "\n",
    "# Get the width and height of the frames\n",
    "frame_width = int(cap.get(3))\n",
    "frame_height = int(cap.get(4))\n",
    "\n",
    "# Define the codec and create VideoWriter object\n",
    "out = cv2.VideoWriter('output.avi', cv2.VideoWriter_fourcc('M','J','P','G'), 10, (frame_width, frame_height))\n",
    "\n",
    "# Initialize background as None\n",
    "background_frame = None\n",
    "\n",
    "while True:\n",
    "    # Capture frame-by-frame\n",
    "    ret, frame = cap.read()\n",
    "\n",
    "    # If the frame was captured successfully, ret will be True\n",
    "    if not ret:\n",
    "        print(\"Error: Failed to grab frame.\")\n",
    "        break\n",
    "\n",
    "    # Convert the current frame to grayscale\n",
    "    gray_frame = cv2.cvtColor(frame, cv2.COLOR_BGR2GRAY)\n",
    "    \n",
    "    # Store the first frame as background\n",
    "    if background_frame is None:\n",
    "        background_frame = gray_frame\n",
    "        print(\"Background frame captured and stored.\")\n",
    "        continue  # Skip the rest of the loop after storing the background\n",
    "    \n",
    "    # Compute the absolute difference between the current frame and the background frame\n",
    "    abs_diff = cv2.absdiff(background_frame, gray_frame)\n",
    "    \n",
    "    # Apply threshold to the absolute difference\n",
    "    _, thresholded = cv2.threshold(abs_diff, 25, 255, cv2.THRESH_BINARY)\n",
    "    \n",
    "    # Find contours in the thresholded image\n",
    "    contours, _ = cv2.findContours(thresholded, cv2.RETR_EXTERNAL, cv2.CHAIN_APPROX_SIMPLE)\n",
    "\n",
    "    # Loop over all contours\n",
    "    for contour in contours:\n",
    "        # Check if the contour area is large enough\n",
    "        if cv2.contourArea(contour) > 500:  # You can adjust this threshold for sensitivity\n",
    "            # Get the bounding rectangle for the contour\n",
    "            x, y, w, h = cv2.boundingRect(contour)\n",
    "            \n",
    "            # Draw a green rectangle around the detected object\n",
    "            cv2.rectangle(frame, (x, y), (x + w, y + h), (0, 255, 0), 2)\n",
    "            \n",
    "            # Add \"UNSAFE\" text in red color on the frame\n",
    "            font = cv2.FONT_HERSHEY_SIMPLEX\n",
    "            cv2.putText(frame, \"UNSAFE\", (x, y - 10), font, 1, (0, 0, 255), 2, cv2.LINE_AA)\n",
    "    \n",
    "    # Write the frame into the file 'output.avi'\n",
    "    out.write(frame)\n",
    "\n",
    "    # Display the processed frame with rectangles and text\n",
    "    cv2.imshow(\"Motion Detection\", frame)\n",
    "\n",
    "    # Wait for the user to press the 'q' key to exit\n",
    "    if cv2.waitKey(1) & 0xFF == ord('q'):\n",
    "        break\n",
    "\n",
    "# Release the webcam and close all OpenCV windows\n",
    "cap.release()  # Release the video capture object\n",
    "out.release()  # Release the video writer object\n",
    "cv2.destroyAllWindows()  # Close all OpenCV windows\n"
   ]
  }
 ],
 "metadata": {
  "kernelspec": {
   "display_name": "Python 3",
   "language": "python",
   "name": "python3"
  },
  "language_info": {
   "codemirror_mode": {
    "name": "ipython",
    "version": 3
   },
   "file_extension": ".py",
   "mimetype": "text/x-python",
   "name": "python",
   "nbconvert_exporter": "python",
   "pygments_lexer": "ipython3",
   "version": "3.13.0"
  }
 },
 "nbformat": 4,
 "nbformat_minor": 5
}
